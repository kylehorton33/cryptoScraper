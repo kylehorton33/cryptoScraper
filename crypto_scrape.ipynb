{
 "cells": [
  {
   "cell_type": "code",
   "execution_count": 9,
   "metadata": {},
   "outputs": [],
   "source": [
    "#import libraries\n",
    "import requests #pull data from url\n",
    "from bs4 import BeautifulSoup as bs4 #parse HTML\n",
    "import pandas as pd #arrange in dataframe\n",
    "from re import sub #regular expression substitution"
   ]
  },
  {
   "cell_type": "code",
   "execution_count": 10,
   "metadata": {},
   "outputs": [],
   "source": [
    "#initialize arrays\n",
    "ranks = []\n",
    "ticker = []\n",
    "names = []\n",
    "market_cap = []\n",
    "price_usd = []\n",
    "vol_24hr = []\n",
    "circ_supply = []\n",
    "change_24hr = []\n",
    "names = []"
   ]
  },
  {
   "cell_type": "code",
   "execution_count": 11,
   "metadata": {},
   "outputs": [],
   "source": [
    "#pull html data from url\n",
    "url = 'https://coinmarketcap.com/'\n",
    "page = requests.get(url)\n",
    "soup = bs4(page.text, 'html.parser')"
   ]
  },
  {
   "cell_type": "code",
   "execution_count": 12,
   "metadata": {},
   "outputs": [],
   "source": [
    "#fill arrays with top 100 crypto\n",
    "block = []\n",
    "new_block = []\n",
    "for i in soup.findAll('tr'):\n",
    "    block.append(i.getText())\n",
    "for j in range(len(block)):\n",
    "    new_block.append(block[j].split('\\n'))\n",
    "\n",
    "for k in range(1,len(block)):\n",
    "    while True:\n",
    "        try:\n",
    "            new_block[k].remove('')\n",
    "        except ValueError:\n",
    "            break\n",
    "    while True:\n",
    "        try:\n",
    "            new_block[k].remove('*')\n",
    "        except ValueError:\n",
    "            break\n",
    "    ranks.append(new_block[k][0])\n",
    "    ticker.append(new_block[k][1])\n",
    "    names.append(new_block[k][2])\n",
    "    market_cap.append(new_block[k][3])\n",
    "    price_usd.append(new_block[k][4])\n",
    "    vol_24hr.append(new_block[k][5])\n",
    "    circ_supply.append(new_block[k][6])\n",
    "    change_24hr.append(new_block[k][8])"
   ]
  },
  {
   "cell_type": "code",
   "execution_count": 13,
   "metadata": {},
   "outputs": [],
   "source": [
    "#create dictionary from arrays\n",
    "data = {\"Rank\" : ranks, \"Ticker\" : ticker, \"Name\" : names, \"Market Cap\" : market_cap, \"Price (USD)\" : price_usd, \"Volume (24h)\" : vol_24hr, \"Circulating Supply\" : circ_supply, \"Change (24h)\" : change_24hr}\n",
    "df = pd.DataFrame(data = data) #create dataframe from dictionary\n",
    "df2 = df.set_index(\"Ticker\", drop = False) #reset index to 3-letter ticker code"
   ]
  },
  {
   "cell_type": "code",
   "execution_count": 14,
   "metadata": {},
   "outputs": [
    {
     "data": {
      "text/plain": [
       "0.020038729316377547"
      ]
     },
     "execution_count": 14,
     "metadata": {},
     "output_type": "execute_result"
    }
   ],
   "source": [
    "#example calculator for ratios\n",
    "btc_price = df2.loc[\"BTC\",\"Price (USD)\"]\n",
    "eth_price = df2.loc[\"ETH\",\"Price (USD)\"]\n",
    "btc = float(sub(r'[^\\d.]','', btc_price))\n",
    "eth = float(sub(r'[^\\d.]','', eth_price))\n",
    "eth/btc"
   ]
  },
  {
   "cell_type": "code",
   "execution_count": null,
   "metadata": {},
   "outputs": [],
   "source": []
  }
 ],
 "metadata": {
  "kernelspec": {
   "display_name": "Python 3",
   "language": "python",
   "name": "python3"
  },
  "language_info": {
   "codemirror_mode": {
    "name": "ipython",
    "version": 3
   },
   "file_extension": ".py",
   "mimetype": "text/x-python",
   "name": "python",
   "nbconvert_exporter": "python",
   "pygments_lexer": "ipython3",
   "version": "3.7.1"
  }
 },
 "nbformat": 4,
 "nbformat_minor": 2
}
